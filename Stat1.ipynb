{
 "cells": [
  {
   "cell_type": "code",
   "execution_count": 1,
   "metadata": {},
   "outputs": [
    {
     "ename": "SyntaxError",
     "evalue": "invalid syntax (<ipython-input-1-310857e6216b>, line 2)",
     "output_type": "error",
     "traceback": [
      "\u001b[0;36m  File \u001b[0;32m\"<ipython-input-1-310857e6216b>\"\u001b[0;36m, line \u001b[0;32m2\u001b[0m\n\u001b[0;31m    incomes = np.random.normal{27000,15000,10000}\u001b[0m\n\u001b[0m                              ^\u001b[0m\n\u001b[0;31mSyntaxError\u001b[0m\u001b[0;31m:\u001b[0m invalid syntax\n"
     ]
    }
   ],
   "source": [
    "import numpy as np\n",
    "incomes = np.random.normal{27000,15000,10000}\n",
    "np.mean(income)"
   ]
  },
  {
   "cell_type": "code",
   "execution_count": 2,
   "metadata": {},
   "outputs": [
    {
     "data": {
      "text/plain": [
       "26962.968111285383"
      ]
     },
     "execution_count": 2,
     "metadata": {},
     "output_type": "execute_result"
    }
   ],
   "source": [
    "import numpy as np\n",
    "income = np.random.normal(27000,15000,10000)\n",
    "np.mean(income)"
   ]
  },
  {
   "cell_type": "code",
   "execution_count": 3,
   "metadata": {},
   "outputs": [
    {
     "data": {
      "text/plain": [
       "<matplotlib.figure.Figure at 0x10883d518>"
      ]
     },
     "metadata": {},
     "output_type": "display_data"
    }
   ],
   "source": [
    "import matplotlib.pyplot as plt\n",
    "plt.hist(income,50)\n",
    "plt.show()"
   ]
  },
  {
   "cell_type": "code",
   "execution_count": 4,
   "metadata": {},
   "outputs": [
    {
     "data": {
      "text/plain": [
       "27116.76675875164"
      ]
     },
     "execution_count": 4,
     "metadata": {},
     "output_type": "execute_result"
    }
   ],
   "source": [
    "np.median(income)"
   ]
  },
  {
   "cell_type": "code",
   "execution_count": 5,
   "metadata": {},
   "outputs": [
    {
     "data": {
      "text/plain": [
       "27119.372269001764"
      ]
     },
     "execution_count": 5,
     "metadata": {},
     "output_type": "execute_result"
    }
   ],
   "source": [
    "income = np.append(income,(10000000000))\n",
    "np.mean(income)\n",
    "np.median(income)"
   ]
  },
  {
   "cell_type": "code",
   "execution_count": 6,
   "metadata": {},
   "outputs": [
    {
     "data": {
      "text/plain": [
       "1026860.2820830771"
      ]
     },
     "execution_count": 6,
     "metadata": {},
     "output_type": "execute_result"
    }
   ],
   "source": [
    "np.mean(income)"
   ]
  },
  {
   "cell_type": "code",
   "execution_count": 7,
   "metadata": {},
   "outputs": [
    {
     "data": {
      "text/plain": [
       "27119.372269001764"
      ]
     },
     "execution_count": 7,
     "metadata": {},
     "output_type": "execute_result"
    }
   ],
   "source": [
    "np.median(income)"
   ]
  },
  {
   "cell_type": "code",
   "execution_count": 8,
   "metadata": {},
   "outputs": [
    {
     "ename": "AttributeError",
     "evalue": "module 'numpy.random' has no attribute 'randist'",
     "output_type": "error",
     "traceback": [
      "\u001b[0;31m---------------------------------------------------------------------------\u001b[0m",
      "\u001b[0;31mAttributeError\u001b[0m                            Traceback (most recent call last)",
      "\u001b[0;32m<ipython-input-8-3a812a3f8cd5>\u001b[0m in \u001b[0;36m<module>\u001b[0;34m()\u001b[0m\n\u001b[0;32m----> 1\u001b[0;31m \u001b[0mages\u001b[0m \u001b[0;34m=\u001b[0m \u001b[0mnp\u001b[0m\u001b[0;34m.\u001b[0m\u001b[0mrandom\u001b[0m\u001b[0;34m.\u001b[0m\u001b[0mrandist\u001b[0m\u001b[0;34m(\u001b[0m\u001b[0;36m18\u001b[0m\u001b[0;34m,\u001b[0m\u001b[0mhigh\u001b[0m\u001b[0;34m=\u001b[0m\u001b[0;36m90\u001b[0m\u001b[0;34m,\u001b[0m\u001b[0msize\u001b[0m\u001b[0;34m=\u001b[0m\u001b[0;36m500\u001b[0m\u001b[0;34m)\u001b[0m\u001b[0;34m\u001b[0m\u001b[0m\n\u001b[0m\u001b[1;32m      2\u001b[0m \u001b[0mages\u001b[0m\u001b[0;34m\u001b[0m\u001b[0m\n",
      "\u001b[0;31mAttributeError\u001b[0m: module 'numpy.random' has no attribute 'randist'"
     ]
    }
   ],
   "source": [
    "ages = np.random.randist(18,high=90,size=500)\n",
    "ages"
   ]
  },
  {
   "cell_type": "code",
   "execution_count": 9,
   "metadata": {},
   "outputs": [
    {
     "data": {
      "text/plain": [
       "array([35, 81, 75, 75, 23, 20, 88, 88, 18, 82, 80, 21, 84, 23, 46, 63, 50,\n",
       "       64, 46, 73, 27, 23, 40, 22, 68, 66, 48, 70, 74, 76, 65, 56, 72, 51,\n",
       "       19, 32, 50, 58, 66, 88, 59, 44, 48, 69, 34, 85, 56, 28, 57, 58, 73,\n",
       "       64, 38, 63, 23, 72, 73, 26, 19, 56, 51, 65, 27, 59, 20, 49, 41, 21,\n",
       "       55, 85, 43, 33, 47, 28, 34, 60, 74, 20, 44, 55, 61, 20, 41, 88, 75,\n",
       "       45, 54, 41, 44, 43, 24, 61, 24, 31, 74, 54, 38, 86, 37, 65, 81, 42,\n",
       "       67, 75, 42, 36, 30, 24, 68, 53, 50, 23, 85, 36, 57, 41, 88, 22, 48,\n",
       "       32, 69, 87, 86, 56, 74, 32, 86, 57, 39, 71, 71, 35, 74, 42, 77, 86,\n",
       "       52, 87, 50, 82, 38, 30, 30, 29, 22, 68, 65, 78, 24, 88, 22, 30, 67,\n",
       "       76, 43, 88, 79, 34, 30, 43, 37, 53, 53, 26, 68, 89, 40, 41, 24, 37,\n",
       "       84, 68, 60, 40, 40, 46, 45, 35, 28, 52, 44, 83, 18, 83, 71, 65, 63,\n",
       "       32, 44, 32, 36, 75, 79, 84, 35, 51, 27, 73, 73, 84, 64, 68, 79, 88,\n",
       "       70, 87, 82, 44, 27, 53, 49, 81, 74, 33, 70, 21, 71, 65, 50, 83, 48,\n",
       "       30, 87, 63, 55, 19, 87, 56, 21, 33, 45, 44, 23, 51, 77, 34, 64, 31,\n",
       "       20, 25, 61, 45, 52, 42, 59, 63, 86, 79, 66, 86, 89, 77, 65, 75, 33,\n",
       "       76, 18, 32, 46, 66, 65, 69, 54, 76, 20, 57, 36, 63, 76, 34, 32, 80,\n",
       "       68, 42, 75, 66, 24, 58, 69, 55, 76, 43, 38, 81, 49, 70, 72, 61, 26,\n",
       "       25, 43, 89, 82, 84, 43, 54, 27, 79, 85, 32, 21, 26, 49, 18, 47, 61,\n",
       "       52, 20, 66, 34, 37, 60, 45, 85, 40, 72, 28, 28, 69, 30, 74, 62, 42,\n",
       "       85, 37, 87, 44, 72, 33, 32, 67, 51, 22, 57, 71, 46, 61, 40, 32, 71,\n",
       "       37, 83, 43, 47, 47, 77, 26, 42, 33, 74, 68, 42, 74, 51, 64, 45, 67,\n",
       "       77, 70, 75, 44, 24, 70, 77, 19, 27, 59, 88, 64, 61, 70, 89, 50, 22,\n",
       "       65, 18, 73, 44, 39, 28, 48, 38, 65, 30, 38, 32, 45, 31, 67, 88, 86,\n",
       "       30, 76, 78, 84, 57, 75, 42, 75, 58, 70, 19, 35, 25, 31, 41, 52, 75,\n",
       "       29, 34, 88, 32, 67, 72, 43, 27, 54, 71, 88, 57, 48, 48, 69, 24, 59,\n",
       "       49, 89, 41, 19, 72, 25, 56, 40, 86, 77, 64, 87, 26, 28, 70, 24, 28,\n",
       "       27, 56, 75, 79, 75, 32, 61, 31, 42, 69, 87, 70, 85, 72, 30, 35, 81,\n",
       "       47, 23, 55, 83, 49, 40, 70, 87, 67, 42, 27, 61, 77, 82, 65, 21, 65,\n",
       "       36, 38, 53, 21, 62, 68, 72, 27, 28, 27, 34, 84, 63, 54, 23, 21, 27,\n",
       "       63, 45, 28, 39, 19, 32, 70])"
      ]
     },
     "execution_count": 9,
     "metadata": {},
     "output_type": "execute_result"
    }
   ],
   "source": [
    "ages = np.random.randint(18,high=90,size=500)\n",
    "ages"
   ]
  },
  {
   "cell_type": "code",
   "execution_count": 10,
   "metadata": {},
   "outputs": [
    {
     "data": {
      "text/plain": [
       "ModeResult(mode=array([32]), count=array([14]))"
      ]
     },
     "execution_count": 10,
     "metadata": {},
     "output_type": "execute_result"
    }
   ],
   "source": [
    "from scipy import stats\n",
    "stats.mode(ages)"
   ]
  },
  {
   "cell_type": "code",
   "execution_count": null,
   "metadata": {},
   "outputs": [],
   "source": []
  }
 ],
 "metadata": {
  "kernelspec": {
   "display_name": "Python 3",
   "language": "python",
   "name": "python3"
  },
  "language_info": {
   "codemirror_mode": {
    "name": "ipython",
    "version": 3
   },
   "file_extension": ".py",
   "mimetype": "text/x-python",
   "name": "python",
   "nbconvert_exporter": "python",
   "pygments_lexer": "ipython3",
   "version": "3.6.4"
  }
 },
 "nbformat": 4,
 "nbformat_minor": 2
}
